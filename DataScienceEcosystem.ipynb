{
 "cells": [
  {
   "cell_type": "markdown",
   "id": "2791a354",
   "metadata": {},
   "source": [
    "# Data Science Tools and Ecosystem"
   ]
  },
  {
   "cell_type": "markdown",
   "id": "728751b0",
   "metadata": {},
   "source": [
    "In this notebook, Data Science Tools and Ecosystem are summarized."
   ]
  },
  {
   "cell_type": "markdown",
   "id": "25d584c4",
   "metadata": {},
   "source": [
    "Some of the popular languages that Data Scientists use are:\n",
    "1. Python\n",
    "2. R\n",
    "3. Scala"
   ]
  },
  {
   "cell_type": "markdown",
   "id": "a098a116",
   "metadata": {},
   "source": [
    "Some of the commonly used libraries used by Data Scientists include:\n",
    "1. Pandas\n",
    "2. NumPy\n",
    "3. Scikit-learn"
   ]
  },
  {
   "cell_type": "markdown",
   "id": "3c37fd5e",
   "metadata": {},
   "source": [
    "  \n",
    "Data Science Tools |\n",
    "-------------------|\n",
    "Jupyter Notebook |\n",
    "Rstudio |\n",
    "Visual Studio Code |\n"
   ]
  },
  {
   "cell_type": "markdown",
   "id": "1b9578b8",
   "metadata": {},
   "source": [
    "### Below are a few examples of evaluating arithmetic expressions in Python"
   ]
  },
  {
   "cell_type": "code",
   "execution_count": 2,
   "id": "d11e0e1f",
   "metadata": {},
   "outputs": [
    {
     "data": {
      "text/plain": [
       "17"
      ]
     },
     "execution_count": 2,
     "metadata": {},
     "output_type": "execute_result"
    }
   ],
   "source": [
    "# This a simple arithmetic expression to mutiply then add integers\n",
    "(3*4)+5"
   ]
  },
  {
   "cell_type": "code",
   "execution_count": 4,
   "id": "f4fc95f3",
   "metadata": {},
   "outputs": [
    {
     "name": "stdout",
     "output_type": "stream",
     "text": [
      "3.3333333333333335\n"
     ]
    }
   ],
   "source": [
    "# This will convert 200 minutes to hours by diving by 60\n",
    "hours = 200 / 60\n",
    "print(hours)"
   ]
  },
  {
   "cell_type": "markdown",
   "id": "1095f227",
   "metadata": {},
   "source": [
    "<b>Objectives:</b>\n",
    "+ Tools for Data Science: Open, Commercial, and Cloud-based \n",
    "+ Popular Languages for Data Science: Python, R, SQL, etc.\n",
    "+ Libraries, APIs, Datasets, and Models\n",
    "+ More about Jupyter Notebook and Jupyter Lab"
   ]
  },
  {
   "cell_type": "markdown",
   "id": "d3898c5b",
   "metadata": {},
   "source": [
    "## Author: \n",
    "A. Erwin S."
   ]
  },
  {
   "cell_type": "code",
   "execution_count": null,
   "id": "9737ed39",
   "metadata": {},
   "outputs": [],
   "source": []
  }
 ],
 "metadata": {
  "kernelspec": {
   "display_name": "Python 3 (ipykernel)",
   "language": "python",
   "name": "python3"
  },
  "language_info": {
   "codemirror_mode": {
    "name": "ipython",
    "version": 3
   },
   "file_extension": ".py",
   "mimetype": "text/x-python",
   "name": "python",
   "nbconvert_exporter": "python",
   "pygments_lexer": "ipython3",
   "version": "3.11.7"
  }
 },
 "nbformat": 4,
 "nbformat_minor": 5
}
